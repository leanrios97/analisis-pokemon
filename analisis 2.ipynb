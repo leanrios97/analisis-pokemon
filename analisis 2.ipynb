{
 "cells": [
  {
   "cell_type": "code",
   "execution_count": null,
   "metadata": {},
   "outputs": [],
   "source": [
    "import requests"
   ]
  },
  {
   "cell_type": "code",
   "execution_count": null,
   "metadata": {},
   "outputs": [],
   "source": [
    "class Pokemons:\n",
    "    def __init__(self) -> None:\n",
    "        pass\n",
    "    \n",
    "    def hacerGetPokeapi(self):\n",
    "        pass\n",
    "    \n",
    "    def insertMongo(self):\n",
    "        pass\n",
    "    \n",
    "    \n",
    "\n",
    "    \n",
    "    "
   ]
  },
  {
   "cell_type": "code",
   "execution_count": null,
   "metadata": {},
   "outputs": [],
   "source": []
  },
  {
   "cell_type": "code",
   "execution_count": null,
   "metadata": {},
   "outputs": [],
   "source": [
    "\n",
    "class PokemonAPIFetcherTemplate:\n",
    "    def fetch_data(self, resource_id):\n",
    "        url = f'https://pokeapi.co/api/v2/{self.resource_name}/{resource_id}/'\n",
    "        response = requests.get(url)\n",
    "\n",
    "        if response.status_code == 200:\n",
    "            return response.json()\n",
    "        else:\n",
    "            raise Exception(f\"Error fetching data. Status code: {response.status_code}\")\n",
    "\n",
    "    def extract_info(self, data):\n",
    "        raise NotImplementedError(\"Las subclases deben implementar este método.\")\n",
    "\n",
    "    def get_pokemon_info(self, resource_id):\n",
    "        data = self.fetch_data(resource_id)\n",
    "        return self.extract_info(data)\n"
   ]
  },
  {
   "cell_type": "code",
   "execution_count": null,
   "metadata": {},
   "outputs": [],
   "source": [
    "class PokemonInfoFetcher(PokemonAPIFetcherTemplate):\n",
    "    resource_name = 'pokemon'\n",
    "\n",
    "    def extract_info(self, data):\n",
    "        return {\n",
    "            'name': data['name'],\n",
    "            'height': data['height'],\n",
    "            'weight': data['weight'],\n",
    "            'types': [t['type']['name'] for t in data['types']]\n",
    "        }\n",
    "\n",
    "class AbilityInfoFetcher(PokemonAPIFetcherTemplate):\n",
    "    resource_name = 'ability'\n",
    "\n",
    "    def extract_info(self, data):\n",
    "        return {\n",
    "            'name': data['name'],\n",
    "            'effect': data['effect_entries'][0]['effect']\n",
    "        }\n",
    "\n"
   ]
  },
  {
   "cell_type": "code",
   "execution_count": null,
   "metadata": {},
   "outputs": [],
   "source": [
    "if __name__ == \"__main__\":\n",
    "    # Example usage\n",
    "    pokemon_fetcher = PokemonInfoFetcher()\n",
    "    ability_fetcher = AbilityInfoFetcher()\n",
    "\n",
    "    try:\n",
    "        pokemon_info = pokemon_fetcher.get_pokemon_info(25)  # Fetch info for Pikachu\n",
    "        print(\"Pokemon Info:\")\n",
    "        print(pokemon_info)\n",
    "\n",
    "        ability_info = ability_fetcher.get_pokemon_info(1)  # Fetch info for the first ability\n",
    "        print(\"\\nAbility Info:\")\n",
    "        print(ability_info)\n",
    "\n",
    "    except Exception as e:\n",
    "        print(f\"An error occurred: {str(e)}\")"
   ]
  }
 ],
 "metadata": {
  "kernelspec": {
   "display_name": "base",
   "language": "python",
   "name": "python3"
  },
  "language_info": {
   "codemirror_mode": {
    "name": "ipython",
    "version": 3
   },
   "file_extension": ".py",
   "mimetype": "text/x-python",
   "name": "python",
   "nbconvert_exporter": "python",
   "pygments_lexer": "ipython3",
   "version": "3.11.3"
  }
 },
 "nbformat": 4,
 "nbformat_minor": 2
}
